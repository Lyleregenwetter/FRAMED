{
 "cells": [
  {
   "cell_type": "code",
   "execution_count": 11,
   "metadata": {},
   "outputs": [],
   "source": [
    "import numpy as np\n",
    "from numpy import random\n",
    "import pandas as pd\n",
    "import scipy.stats as st\n",
    "from pathlib import Path\n",
    "import getInvalid\n",
    "import PreSW"
   ]
  },
  {
   "cell_type": "code",
   "execution_count": 12,
   "metadata": {},
   "outputs": [
    {
     "name": "stdout",
     "output_type": "stream",
     "text": [
      " AISI 4130 Steel#^# annealed at 865C@SOLIDWORKS Materials$SOLIDWORKS Materials|AISI 4130 Steel#^# annealed at 865C|94$C:/Program Files/SOLIDWORKS Corp/SOLIDWORKS/lang/english/sldmaterials/SOLIDWORKS Materials.sldmat|AISI 4130 Steel#^# annealed at 865C|94\n",
      " 6061-T6 (SS)@SOLIDWORKS Materials$SOLIDWORKS Materials|6061-T6 (SS)|164$C:/Program Files/SOLIDWORKS Corp/SOLIDWORKS/lang/english/sldmaterials/SOLIDWORKS Materials.sldmat|6061-T6 (SS)|164\n",
      " Ti-6Al-4VSolution treated and aged (SS)@SOLIDWORKS Materials$SOLIDWORKS Materials|Ti-6Al-4VSolution treated and aged (SS)|205$C:/Program Files/SOLIDWORKS Corp/SOLIDWORKS/lang/english/sldmaterials/SOLIDWORKS Materials.sldmat|Ti-6Al-4VSolution treated and aged (SS)|205\n"
     ]
    }
   ],
   "source": [
    "template=pd.read_csv(\"Design Study Template.csv\", encoding=\"ISO-8859-1\")\n",
    "df=template.copy()\n",
    "# print(df)\n",
    "df.reset_index(inplace=True)  \n",
    "if \"index\" in df.columns:\n",
    "    df.drop([\"index\"], axis=1, inplace=True)\n",
    "# print(df)\n",
    "df.drop(df.index[1], inplace=True)\n",
    "df.drop(df.columns[0:2], axis=1, inplace=True)\n",
    "\n",
    "df.columns = df.iloc[0]\n",
    "# print(df.columns)\n",
    "df.drop(df.index[0], inplace=True)\n",
    "\n",
    "#Define specific materials to insert into design templates\n",
    "steel=df.at[2, \" Material\"]\n",
    "aluminum=df.at[3, \" Material\"]\n",
    "titanium=df.at[4, \" Material\"]\n",
    "\n",
    "print(steel)\n",
    "print(aluminum)\n",
    "print(titanium)\n",
    "df.drop(df.index, axis=0, inplace=True)\n",
    "# df.columns\n"
   ]
  },
  {
   "cell_type": "code",
   "execution_count": 17,
   "metadata": {},
   "outputs": [],
   "source": [
    "biked=pd.read_csv(\"BIKED_reduced.csv\", index_col=0)\n",
    "biked_rethick=PreSW.shufflethickness(biked)\n",
    "# print(biked_rethick)"
   ]
  },
  {
   "cell_type": "code",
   "execution_count": 18,
   "metadata": {},
   "outputs": [
    {
     "name": "stdout",
     "output_type": "stream",
     "text": [
      "[3, 6, 11, 17, 20, 23, 30, 31, 57, 68, 109, 110, 122, 158, 177, 188, 189, 195, 199, 234, 240, 248, 253, 289, 290, 325, 329, 332, 336, 345, 353, 359, 372, 390, 391, 398, 403, 410, 429, 432, 442, 453, 455, 503, 505, 516, 525, 528, 542, 553, 579, 667, 671, 713, 749, 771, 844, 858, 918, 921, 947, 987, 990, 1013, 1040, 1042, 1048, 1062, 1065, 1110, 1151, 1154, 1169, 1183, 1196, 1218, 1232, 1233, 1253, 1284, 1299, 1333, 1336, 1344, 1345, 1346, 1347, 1355, 1356, 1366, 1368, 1369, 1377, 1382, 1387, 1407, 1413, 1416, 1434, 1435, 1453, 1464, 1472, 1490, 1496, 1555, 1556, 1640, 1669, 1693, 1700, 1736, 1761, 1765, 1771, 1783, 1787, 1789, 1790, 1791, 1793, 1801, 1805, 1810, 1823, 1829, 1863, 1873, 1891, 1908, 1926, 1956, 1957, 1962, 1988, 2016, 2036, 2075, 2110, 2148, 2162, 2192, 2259, 2260, 2268, 2313, 2326, 2405, 2422, 2428, 2435, 2472, 2482, 2518, 2596, 2606, 2641, 2643, 2674, 2675, 2676, 2691, 2756, 2808, 2838, 2839, 2866, 2881, 2883, 2930, 2931, 2939, 2968, 2995, 3018, 3032, 3095, 3102, 3117, 3119, 3125, 3126, 3127, 3142, 3145, 3154, 3161, 3214, 3236, 3316, 3338, 3466, 3539, 3576, 3602, 3623, 3646, 3682, 3683, 3752, 3779, 3794, 3823, 4044, 4062, 4063, 4064, 4066, 4087, 4127, 4269, 4326, 4327, 4328, 4333, 4334, 4385, 4402, 4701, 4713, 4774]\n"
     ]
    }
   ],
   "source": [
    "# count=0\n",
    "bridges=[]\n",
    "df=PreSW.renameCols(df, biked)\n",
    "        \n",
    "        \n",
    "for idx in df.index:\n",
    "#Set bridge diameter values based on whether bridges are on. If bridges are off, set diameter to 0.\n",
    "        if biked.at[idx, \"SEATSTAYbrdgCheck\"]==1:\n",
    "            df.at[idx, \" SSB OD\"]=biked.at[idx, \"SEATSTAYbrdgdia1\"]\n",
    "            if biked.at[idx, \"SEATSTAYbrdgdia1\"]<0:\n",
    "                invalid=True\n",
    "        else:\n",
    "            df.at[idx, \" SSB OD\"]=0\n",
    "        if biked.at[idx, \"CHAINSTAYbrdgCheck\"]==1:\n",
    "            df.at[idx, \" CSB OD\"]=biked.at[idx, \"CHAINSTAYbrdgdia1\"]\n",
    "            if biked.at[idx, \"CHAINSTAYbrdgdia1\"]<0:\n",
    "                invalid=True\n",
    "        else:\n",
    "            df.at[idx, \" CSB OD\"]=0\n",
    "        \n",
    "        #Set Material names\n",
    "        if df.at[idx, \" Material\"]==\"STEEL\":\n",
    "            df.at[idx, \" Material\"]=steel\n",
    "        elif df.at[idx, \" Material\"]==\"TITANIUM\":\n",
    "            df.at[idx, \" Material\"]=titanium\n",
    "    #     if df.at[idx, \" Material\"]==\"ALUMINIUM\":\n",
    "        else:\n",
    "            df.at[idx, \" Material\"]=aluminum\n",
    "        \n",
    "# Code to count cases where bridges are wider than stays\n",
    "#     if df.at[idx, \" SSB OD\"]>=df.at[idx, \" SS OD\"] and invalid==False:\n",
    "#         bridges.append(idx)\n",
    "#     elif df.at[idx, \" CSB OD\"]>=df.at[idx, \" CS OD\"] and invalid==False:\n",
    "#         bridges.append(idx)\n",
    "\n",
    "\n",
    "#Scale values from mm to meters, excluding any angles and material parameter        \n",
    "columns=list(df.columns)\n",
    "columns.remove(\" Material\")\n",
    "columns.remove(\" HT Angle\")\n",
    "columns.remove(\" ST Angle\")\n",
    "scaleddf=df[columns].divide(1000)\n",
    "scaleddf[\" Material\"]=df[\" Material\"]\n",
    "scaleddf[\" HT Angle\"]=df[\" HT Angle\"]\n",
    "scaleddf[\" ST Angle\"]=df[\" ST Angle\"]\n",
    "scaleddf=scaleddf[df.columns]\n",
    "\n",
    "#Save the dataframe before dropping invalid bikes for future use in validity classification\n",
    "scaleddf.to_csv(\"biked_predrop.csv\")\n",
    "\n",
    "invalid_bikes, perc=getInvalid.getInvalid(scaleddf)\n",
    "print(invalid_bikes)\n",
    "scaleddf.drop(invalid_bikes, inplace=True)\n",
    "\n",
    "# print(np.array(bridges))\n",
    "# np.save(\"./Batch Info/bridges\", np.array(bridges))"
   ]
  },
  {
   "cell_type": "code",
   "execution_count": 19,
   "metadata": {},
   "outputs": [],
   "source": [
    "scaleddf.to_csv(\"Processed_structural_data.csv\")"
   ]
  },
  {
   "cell_type": "code",
   "execution_count": 20,
   "metadata": {},
   "outputs": [],
   "source": [
    "augdf=pd.read_csv(\"Processed_structural_data.csv\", index_col=0)\n",
    "\n",
    "# augdf=augdf[1200:1400]\n",
    "# augdf=augdf.iloc[[1,20,64]]\n",
    "\n",
    "# augdf=pd.read_csv(\"Processed_structural_data_repaired.csv\", index_col=0)\n",
    "# resim=np.load(\"./Batch Info/resim.npy\")\n",
    "# print(len(resim))\n",
    "# augdf=augdf.loc[resim[1200:1400]]\n",
    "\n",
    "# augdf=pd.read_csv(\"./Batch Info/Processed_structural_data_matfix.csv\", index_col=0)\n",
    "# augdf=augdf.iloc[[1,20,64]]\n",
    "augdf=augdf.iloc[1600:1800]"
   ]
  },
  {
   "cell_type": "code",
   "execution_count": 22,
   "metadata": {},
   "outputs": [
    {
     "name": "stdout",
     "output_type": "stream",
     "text": [
      "Design Set     200          35                                              \\\n",
      "Parameters  Status   CS Length   BB Drop   Stack   SS E   ST Angle   BB OD   \n",
      "Units                        m         m       m      m        deg       m   \n",
      "Bike1720         1       0.405     0.075  0.5656   0.06         73    0.04   \n",
      "Bike1721         1       0.381    -0.007  0.5656  0.045         70    0.04   \n",
      "Bike1722         1       0.381    -0.007  0.5656  0.045         70    0.04   \n",
      "...            ...         ...       ...     ...    ...        ...     ...   \n",
      "Bike1936         1        0.37     -0.01  0.5656   0.04         74    0.04   \n",
      "Bike1937         1        0.39     0.034  0.5656  0.045         71    0.04   \n",
      "Bike1938         1        0.39     0.005  0.5656  0.045         71    0.04   \n",
      "Bike1939         1         0.4         0  0.5656  0.039         74    0.04   \n",
      "Bike1940         1         0.4      0.03  0.5656  0.039       71.5    0.04   \n",
      "\n",
      "Design Set                          ...                                     \\\n",
      "Parameters   TT OD   HT OD   DT OD  ...   CSB Offset   SS Z   SS Thickness   \n",
      "Units            m       m       m  ...          N/A    N/A            N/A   \n",
      "Bike1720    0.0286   0.045  0.0365  ...         0.35  0.009    0.000797881   \n",
      "Bike1721    0.0286   0.045  0.0365  ...         0.35  0.009     0.00760685   \n",
      "Bike1722    0.0286   0.045  0.0365  ...         0.35  0.009     0.00556234   \n",
      "...            ...     ...     ...  ...          ...    ...            ...   \n",
      "Bike1936    0.0282    0.04   0.033  ...         0.35  0.009       0.009826   \n",
      "Bike1937    0.0286   0.045  0.0365  ...         0.35  0.009     0.00395585   \n",
      "Bike1938    0.0286   0.045  0.0365  ...         0.35  0.009     0.00530797   \n",
      "Bike1939    0.0287    0.04   0.034  ...         0.35  0.009       0.002946   \n",
      "Bike1940    0.0385   0.053  0.0455  ...          0.3  0.009     0.00454227   \n",
      "\n",
      "Design Set                                                              \\\n",
      "Parameters   CS Thickness   TT Thickness   BB Thickness   HT Thickness   \n",
      "Units                 N/A            N/A              m              m   \n",
      "Bike1720      0.000738362    0.000585999     0.00540592     0.00121767   \n",
      "Bike1721       0.00640093     0.00223934    0.000732445     0.00181933   \n",
      "Bike1722        0.0031626     0.00280512     0.00112601    0.000813794   \n",
      "...                   ...            ...            ...            ...   \n",
      "Bike1936       0.00814821     0.00165917     0.00241279    0.000681784   \n",
      "Bike1937       0.00669787    0.000733517     0.00689671     0.00283399   \n",
      "Bike1938       0.00055961     0.00903996      0.0076739     0.00609037   \n",
      "Bike1939       0.00217001    0.000532849     0.00339015     0.00462947   \n",
      "Bike1940       0.00534303    0.000606049      0.0015478     0.00426536   \n",
      "\n",
      "Design Set                                            \n",
      "Parameters   ST Thickness   DT Thickness   DT Length  \n",
      "Units                   m              m         N/A  \n",
      "Bike1720      0.000533629    0.000624955    0.658678  \n",
      "Bike1721      0.000502199     0.00156259    0.607421  \n",
      "Bike1722       0.00241632     0.00141051    0.607421  \n",
      "...                   ...            ...         ...  \n",
      "Bike1936       0.00453895     0.00287575    0.580679  \n",
      "Bike1937       0.00123471     0.00148895     0.63481  \n",
      "Bike1938       0.00074979     0.00376943    0.617316  \n",
      "Bike1939       0.00128539     0.00201697    0.603328  \n",
      "Bike1940       0.00752385      0.0050838    0.647981  \n",
      "\n",
      "[202 rows x 36 columns]\n"
     ]
    }
   ],
   "source": [
    "for idx in augdf.index:\n",
    "    if augdf.at[idx, \" CS F\"]==augdf.at[idx, \" BB Length\"]/2:\n",
    "        augdf.at[idx, \" CS F\"]=augdf.at[idx, \" CS F\"]-.0001\n",
    "        print(\"Adjusting CS F for model \" + str(idx) + \" by 0.0001 since it is half of BB length and would cause model to lock!\")\n",
    "\n",
    "\n",
    "template=pd.read_csv(\"Design Study Template.csv\", encoding=\"ISO-8859-1\")\n",
    "# if \"index\" in template.columns:\n",
    "#     template.drop([\"index\"], axis=1, inplace=True)\n",
    "newindex=augdf.columns.insert(0,\"Status\")\n",
    "augdf[\"Status\"]=np.full(len(augdf.index), 1)\n",
    "augdf=augdf[newindex]\n",
    "augdf.index=[\"Bike\" + str(i) for i in augdf.index]\n",
    "# print(template)\n",
    "template.reset_index(inplace=True)  \n",
    "units=template.iloc[1]\n",
    "\n",
    "#Old code to drop \"Level_0\", replace this by dropping entries from top of units until reaching correct length\n",
    "#     units.drop([\"level_0\"], axis=0, inplace=True)\n",
    "\n",
    "while len(units.index)>len(augdf.columns):\n",
    "    units.drop([units.index[0]], axis=0, inplace=True)\n",
    "units.index=augdf.columns\n",
    "units.rename(\"Units\", inplace=True)\n",
    "augdf=augdf.append(units)\n",
    "newindices= augdf.index[:-1].insert(0, augdf.index[-1])\n",
    "augdf=augdf.reindex(newindices)\n",
    "augdf.columns.rename(\"Parameters\", inplace=True)\n",
    "\n",
    "augdf=augdf.T.reset_index().T\n",
    "cols=[len(augdf.index)-2, len(augdf.columns)-1] + [\"\"]*(len(augdf.columns)-2)\n",
    "# print(cols)\n",
    "augdf.columns=cols\n",
    "augdf.columns.rename(\"Design Set\", inplace=True)\n",
    "# print(units)\n",
    "print(augdf)"
   ]
  },
  {
   "cell_type": "code",
   "execution_count": 23,
   "metadata": {},
   "outputs": [],
   "source": [
    "augdf.to_csv(\"generated_param_study_template.csv\", index_label=\"Design Set\")"
   ]
  },
  {
   "cell_type": "code",
   "execution_count": null,
   "metadata": {},
   "outputs": [],
   "source": []
  }
 ],
 "metadata": {
  "kernelspec": {
   "display_name": "Python 3 (ipykernel)",
   "language": "python",
   "name": "python3"
  },
  "language_info": {
   "codemirror_mode": {
    "name": "ipython",
    "version": 3
   },
   "file_extension": ".py",
   "mimetype": "text/x-python",
   "name": "python",
   "nbconvert_exporter": "python",
   "pygments_lexer": "ipython3",
   "version": "3.9.7"
  }
 },
 "nbformat": 4,
 "nbformat_minor": 4
}
