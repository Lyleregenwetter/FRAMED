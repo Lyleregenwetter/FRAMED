{
 "cells": [
  {
   "cell_type": "code",
   "execution_count": 1,
   "id": "74312690",
   "metadata": {},
   "outputs": [],
   "source": [
    "import pandas as pd\n",
    "import seaborn as sn\n",
    "import numpy as np\n",
    "import matplotlib.pyplot as plt\n",
    "from sklearn.model_selection import KFold, train_test_split\n",
    "import seaborn as sns\n",
    "import warnings\n",
    "warnings.filterwarnings('ignore')"
   ]
  },
  {
   "cell_type": "code",
   "execution_count": 3,
   "id": "0cb86076",
   "metadata": {},
   "outputs": [],
   "source": [
    "psd=pd.read_csv(\"../processed_structural_data_backup.csv\", index_col=0)\n",
    "biked=pd.read_csv(\"../../Data/microBIKED_processed_DeOH.csv\", index_col=0)"
   ]
  },
  {
   "cell_type": "code",
   "execution_count": 4,
   "id": "71ba6f1c",
   "metadata": {},
   "outputs": [],
   "source": [
    "miss=psd[psd.isnull().any(axis=1)].index\n",
    "for i in miss:\n",
    "    psd.loc[i,\" Stack\"]=biked.loc[i,\"Stack\"]\n",
    "psd.to_csv(\"processed_Structural_data_repaired.csv\")"
   ]
  },
  {
   "cell_type": "code",
   "execution_count": 8,
   "id": "76c7faab",
   "metadata": {},
   "outputs": [],
   "source": [
    "data=pd.read_csv(\"../all_structural_data_oh.csv\", index_col=0)\n",
    "batch=data.iloc[:,-1]\n",
    "x=data.iloc[:,:-11]\n",
    "y=data.iloc[:,-11:-1]"
   ]
  },
  {
   "cell_type": "code",
   "execution_count": 18,
   "id": "dbc660af",
   "metadata": {},
   "outputs": [],
   "source": [
    "y_sel=y.loc[np.abs(y[\"Sim 1 Dropout Y Disp.\"])>=0.5]\n",
    "defl=set(y_sel.index)\n",
    "bridges=np.load(\"bridges.npy\")\n",
    "bridges=set(bridges)\n",
    "miss=set(miss)\n",
    "resim=defl.union(bridges).union(miss)\n",
    "resim=np.array(sorted(resim))\n",
    "np.save(\"batch2\", resim)"
   ]
  },
  {
   "cell_type": "code",
   "execution_count": 11,
   "id": "25bce89a",
   "metadata": {},
   "outputs": [],
   "source": [
    "# psd=pd.read_csv(\"processed_structural_data_repaired.csv\", index_col=0)\n",
    "alu=biked.index[biked['MATERIAL'] == \"ALUMINIUM\"].tolist()\n",
    "ti=biked.index[biked['MATERIAL'] == \"TITANIUM\"].tolist()\n",
    "# print(alu)\n",
    "# print(ti)\n",
    "\n",
    "alu = [x for x in alu if x in psd.index]\n",
    "ti = [x for x in ti if x in psd.index]"
   ]
  },
  {
   "cell_type": "code",
   "execution_count": 13,
   "id": "c4fbf92c",
   "metadata": {},
   "outputs": [
    {
     "name": "stdout",
     "output_type": "stream",
     "text": [
      " AISI 4130 Steel#^# annealed at 865C@SOLIDWORKS Materials$SOLIDWORKS Materials|AISI 4130 Steel#^# annealed at 865C|94$C:/Program Files/SOLIDWORKS Corp/SOLIDWORKS/lang/english/sldmaterials/SOLIDWORKS Materials.sldmat|AISI 4130 Steel#^# annealed at 865C|94\n",
      " 6061-T6 (SS)@SOLIDWORKS Materials$SOLIDWORKS Materials|6061-T6 (SS)|164$C:/Program Files/SOLIDWORKS Corp/SOLIDWORKS/lang/english/sldmaterials/SOLIDWORKS Materials.sldmat|6061-T6 (SS)|164\n",
      " Ti-6Al-4VSolution treated and aged (SS)@SOLIDWORKS Materials$SOLIDWORKS Materials|Ti-6Al-4VSolution treated and aged (SS)|205$C:/Program Files/SOLIDWORKS Corp/SOLIDWORKS/lang/english/sldmaterials/SOLIDWORKS Materials.sldmat|Ti-6Al-4VSolution treated and aged (SS)|205\n"
     ]
    }
   ],
   "source": [
    "template=pd.read_csv(\"../Design Study Template_DTL3.csv\", encoding=\"ISO-8859-1\")\n",
    "df=template.copy()\n",
    "# print(df)\n",
    "df.reset_index(inplace=True)  \n",
    "if \"index\" in df.columns:\n",
    "    df.drop([\"index\"], axis=1, inplace=True)\n",
    "# print(df)\n",
    "df.drop(df.index[1], inplace=True)\n",
    "df.drop(df.columns[0:2], axis=1, inplace=True)\n",
    "\n",
    "df.columns = df.iloc[0]\n",
    "# print(df.columns)\n",
    "df.drop(df.index[0], inplace=True)\n",
    "steel=df.at[2, \" Material\"]\n",
    "aluminum=df.at[3, \" Material\"]\n",
    "titanium=df.at[4, \" Material\"]\n",
    "print(steel)\n",
    "print(aluminum)\n",
    "print(titanium)"
   ]
  },
  {
   "cell_type": "code",
   "execution_count": 14,
   "id": "f5bcd86f",
   "metadata": {},
   "outputs": [],
   "source": [
    "psd_al=psd.loc[alu]\n",
    "psd_al.loc[:, \" Material\"]=[aluminum]*len(psd_al.index)\n",
    "psd_ti=psd.loc[ti]\n",
    "psd_ti.loc[:, \" Material\"]=[titanium]*len(psd_ti.index)"
   ]
  },
  {
   "cell_type": "code",
   "execution_count": 15,
   "id": "72bfc09d",
   "metadata": {},
   "outputs": [],
   "source": [
    "matfix=pd.concat([psd_ti, psd_al])"
   ]
  },
  {
   "cell_type": "code",
   "execution_count": 17,
   "id": "c849d644",
   "metadata": {},
   "outputs": [],
   "source": [
    "matfix.to_csv(\"processed_Structural_data_matfix.csv\")\n",
    "matfix.index\n",
    "np.save(\"batch3\", matfix)"
   ]
  },
  {
   "cell_type": "code",
   "execution_count": null,
   "id": "c58200c8",
   "metadata": {},
   "outputs": [],
   "source": []
  }
 ],
 "metadata": {
  "kernelspec": {
   "display_name": "Python 3 (ipykernel)",
   "language": "python",
   "name": "python3"
  },
  "language_info": {
   "codemirror_mode": {
    "name": "ipython",
    "version": 3
   },
   "file_extension": ".py",
   "mimetype": "text/x-python",
   "name": "python",
   "nbconvert_exporter": "python",
   "pygments_lexer": "ipython3",
   "version": "3.9.7"
  }
 },
 "nbformat": 4,
 "nbformat_minor": 5
}
